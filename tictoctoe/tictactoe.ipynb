{
 "cells": [
  {
   "cell_type": "markdown",
   "id": "b6353c81",
   "metadata": {},
   "source": [
    "-TicTacToe\n",
    "    -__init__\n",
    "    -get_random_first_player\n",
    "    -fix_spot: mark board\n",
    "    -has_player_won(self, player)\n",
    "    -swap_player_turn\n",
    "    -show_board\n",
    "\n"
   ]
  },
  {
   "cell_type": "code",
   "execution_count": 2,
   "id": "6dfaa841",
   "metadata": {},
   "outputs": [],
   "source": [
    "import random \n"
   ]
  },
  {
   "cell_type": "code",
   "execution_count": 35,
   "id": "ec4fe2a9",
   "metadata": {},
   "outputs": [],
   "source": [
    "class TicTacToe:\n",
    "    def __init__(self, ):\n",
    "        self.board =  [' '] * 10   #list(map(str, range(10)))  # index 0 is unused\n",
    "        self.player_turn = self.get_random_first_player()\n",
    "\n",
    "    def get_random_first_player(self):\n",
    "        return random.choice(['X', 'O'])\n",
    "\n",
    "    def show_board(self):\n",
    "        print('\\n')\n",
    "        print(self.board[1] + ' | ' + self.board[2] + ' | ' + self.board[3])\n",
    "        print('---------')\n",
    "        print(self.board[4] + ' | ' + self.board[5] + ' | ' + self.board[6])\n",
    "        print('---------')\n",
    "        print(self.board[7] + ' | ' + self.board[8] + ' | ' + self.board[9])        \n",
    "        print('\\n')\n",
    "\n",
    "\n",
    "    def swap_player_turn(self):\n",
    "        self.player_turn = 'O' if self.player_turn == 'X' else 'X'\n",
    "        return self.player_turn\n",
    "    \n",
    "\n",
    "    def is_board_filled(self):\n",
    "        return ' ' not in self.board[1:]\n",
    "    \n",
    "    def fix_spot(self, cell, player):\n",
    "        self.board[cell] = player\n",
    "\n",
    "\n",
    "    def has_player_won(self, player):\n",
    "        win_combinations = [\n",
    "            (1, 2, 3), (4, 5, 6), (7, 8, 9),  # horizontal\n",
    "            (1, 4, 7), (2, 5, 8), (3, 6, 9),  # vertical\n",
    "            (1, 5, 9), (3, 5, 7)              # diagonal\n",
    "        ]   \n",
    "        for combo in win_combinations:\n",
    "            if all(self.board[cell] == player for cell in combo):\n",
    "                return True\n",
    "        return False\n",
    "    def start(self):\n",
    "        while True:\n",
    "            self.show_board()\n",
    "            print(f\"Player {self.player_turn}'s turn. Choose a cell (1-9):\")\n",
    "            try:\n",
    "                cell = int(input())\n",
    "                if cell < 1 or cell > 9 or self.board[cell] != ' ':\n",
    "                    print(\"Invalid move. Try again.\")\n",
    "                    continue\n",
    "            except ValueError:\n",
    "                print(\"Invalid input. Please enter a number between 1 and 9.\")\n",
    "                continue\n",
    "            \n",
    "            self.fix_spot(cell, self.player_turn)\n",
    "            \n",
    "            if self.has_player_won(self.player_turn):\n",
    "                self.show_board()\n",
    "                print(f\"Player {self.player_turn} wins!\")\n",
    "                break\n",
    "            \n",
    "            if self.is_board_filled():\n",
    "                self.show_board()\n",
    "                print(\"It's a draw!\")\n",
    "                break\n",
    "            \n",
    "            self.swap_player_turn()\n",
    "            self.show_board()\n",
    "            print(f\"Player {self.player_turn}'s turn\")\n",
    "            cell = int(input('Enter a cell number (1-9): '))\n",
    "\n",
    "            if self.board[cell] == ' ' and cell in range(1, 10):\n",
    "                self.fix_spot(cell, self.player_turn)\n",
    "\n",
    "                if self.has_player_won(self.player_turn):\n",
    "                    self.show_board()\n",
    "                    print(f\"Player {self.player_turn} won!\")\n",
    "                    break\n",
    "            elif self.is_board_filled():\n",
    "                self.show_board()\n",
    "                print(\"It's a draw!\")\n",
    "                break\n",
    "            else:\n",
    "                print(\"Invalid move. Try again.\")\n",
    "            self.swap_player_turn()\n",
    "\n",
    "            \n",
    "\n",
    "\n",
    "\n",
    "\n",
    "\n",
    "    \n"
   ]
  },
  {
   "cell_type": "code",
   "execution_count": 30,
   "id": "a5a0d0a5",
   "metadata": {},
   "outputs": [],
   "source": [
    "game = TicTacToe()"
   ]
  },
  {
   "cell_type": "code",
   "execution_count": 24,
   "id": "4524979e",
   "metadata": {},
   "outputs": [
    {
     "data": {
      "text/plain": [
       "'X'"
      ]
     },
     "execution_count": 24,
     "metadata": {},
     "output_type": "execute_result"
    }
   ],
   "source": [
    "game.player_turn"
   ]
  },
  {
   "cell_type": "code",
   "execution_count": 31,
   "id": "319e5fdf",
   "metadata": {},
   "outputs": [
    {
     "name": "stdout",
     "output_type": "stream",
     "text": [
      "\n",
      "\n",
      "  |   |  \n",
      "---------\n",
      "  |   |  \n",
      "---------\n",
      "  |   |  \n",
      "\n",
      "\n"
     ]
    }
   ],
   "source": [
    "game.show_board()"
   ]
  }
 ],
 "metadata": {
  "kernelspec": {
   "display_name": "Python 3",
   "language": "python",
   "name": "python3"
  },
  "language_info": {
   "codemirror_mode": {
    "name": "ipython",
    "version": 3
   },
   "file_extension": ".py",
   "mimetype": "text/x-python",
   "name": "python",
   "nbconvert_exporter": "python",
   "pygments_lexer": "ipython3",
   "version": "3.10.5"
  }
 },
 "nbformat": 4,
 "nbformat_minor": 5
}
